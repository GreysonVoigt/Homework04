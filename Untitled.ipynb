{
 "cells": [
  {
   "cell_type": "code",
   "execution_count": 3,
   "metadata": {
    "collapsed": false
   },
   "outputs": [],
   "source": [
    "import numpy as np\n",
    "import matplotlib.pyplot as plt\n",
    "\n",
    "\n",
    "test = [1,2,3,4,5]"
   ]
  },
  {
   "cell_type": "code",
   "execution_count": 4,
   "metadata": {
    "collapsed": false
   },
   "outputs": [
    {
     "data": {
      "text/plain": [
       "5"
      ]
     },
     "execution_count": 4,
     "metadata": {},
     "output_type": "execute_result"
    }
   ],
   "source": [
    "test[-1]"
   ]
  },
  {
   "cell_type": "code",
   "execution_count": null,
   "metadata": {
    "collapsed": true
   },
   "outputs": [],
   "source": [
    "def time_and_angles():\n",
    "    \"\"\"\n",
    "    Returns three Numpy arrays: \n",
    "    1. a list of time samples \n",
    "    2. a list of theta values\n",
    "    3. a list of omega values\n",
    "    No arguments (these are all assumed to be global variables)\n",
    "    \"\"\"\n",
    "    \n",
    "    theta_points = []\n",
    "    omega_points = []\n",
    "    \n",
    "    # Initialize theta, omega\n",
    "    theta = theta_0 # FIX THIS\n",
    "    omega = omega_0 # FIX THIS\n",
    "    \n",
    "    for t in tpoints:\n",
    "        \n",
    "        # Record theta, omega\n",
    "        theta_points.append(theta)\n",
    "        omega_points.append(omega)\n",
    "            \n",
    "        # Time step using Runge-Kutta\n",
    "        k1 = dt*f(theta_points[-1],omega_points[-1],t_final)\n",
    "        k2 = dt*f(theta_points[-1] + 0.5*k1,omega_points[-1], t + 0.5*dt)\n",
    "        theta += k2 # FIX THIS\n",
    "        \n",
    "        k1 = dt*h(theta_points[-1],omega_points[-1],t_final)\n",
    "        k2 = dt*h(theta_points[-1],omega_points[-1]+.5*k1, t + 0.5*dt)\n",
    "        omega += k2 # FIX THIS\n",
    "        \n",
    "        # Note: the arguments of f(...) and h(...) should use \n",
    "        # theta_points[-1] and omega_points[-1].\n",
    "        #\n",
    "        # This is to ensure that you update theta and omega simultaneously. \n",
    "        # For example, if you were doing Euler (correct):\n",
    "        # omega(i+1) = omega(i) + dt*f(theta(i), omega(i), t)\n",
    "        #\n",
    "        # versus (incorrect)\n",
    "        # omega(i+1) = omega(i) + dt*f(theta(i+1), omega(i), t)\n",
    "\n",
    "    tt = np.array(tpoints)\n",
    "    thetas = np.array(theta_points)\n",
    "    omegas = np.array(omega_points)\n",
    "    \n",
    "    return tt, thetas, omegas"
   ]
  }
 ],
 "metadata": {
  "kernelspec": {
   "display_name": "Python 3",
   "language": "python",
   "name": "python3"
  },
  "language_info": {
   "codemirror_mode": {
    "name": "ipython",
    "version": 3
   },
   "file_extension": ".py",
   "mimetype": "text/x-python",
   "name": "python",
   "nbconvert_exporter": "python",
   "pygments_lexer": "ipython3",
   "version": "3.6.0"
  }
 },
 "nbformat": 4,
 "nbformat_minor": 2
}
