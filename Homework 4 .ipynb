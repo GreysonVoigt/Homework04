{
 "cells": [
  {
   "cell_type": "markdown",
   "metadata": {},
   "source": [
    "# Homework 4: Oscillatory Systems\n",
    "Physics 177, Spring 2017 (Prof. Tanedo)  \n",
    "Due: Tuesday, May 7  \n",
    "\n",
    "*Your Name*\n",
    "\n",
    "If there are issues with the homework, please [e-mail Prof. Tanedo](mailto:flip.tanedo@ucr.edu) before the weekend. \n",
    "\n",
    "**Useful links:**\n",
    "* Keyboard shortcuts for Jupyter: https://gist.github.com/kidpixo/f4318f8c8143adee5b40"
   ]
  },
  {
   "cell_type": "markdown",
   "metadata": {},
   "source": [
    "## Problem 1: Simple Pendulum vs. Error Accumulation"
   ]
  },
  {
   "cell_type": "markdown",
   "metadata": {},
   "source": [
    "The equations of motion for the simple pendulum are:  \n",
    "\n",
    "$\\displaystyle \\dot{\\theta} = +\\, \\omega$  \n",
    "$\\displaystyle \\dot{\\omega} = -\\frac{g}{\\ell}\\sin\\theta$  \n",
    "\n",
    "Write these as:  \n",
    "\n",
    "$\\displaystyle \\dot{\\theta} = f(\\theta,\\omega,t)$  \n",
    "$\\displaystyle \\dot{\\omega} = h(\\theta,\\omega,t)$  \n",
    "\n",
    "The pendulum has length $\\ell$, angle $\\theta$ with respect to the vertical, angular velocity $\\omega$, and gravitational acceleration at sea level is $g = 9.8$ m/s$^2$.\n",
    "\n",
    "**Reminder**: Recall that the Runge-Kutta algorithm for solvine $\\dot x = f(x,t)$ is to loop the following sequence of steps:  \n",
    "`k1 = dt*f(x,t)`  \n",
    "`k2 = dt*f(x + 0.5*k1, t + 0.5*dt)`  \n",
    "`x += k2`"
   ]
  },
  {
   "cell_type": "markdown",
   "metadata": {},
   "source": [
    "### 1.a Code this up\n",
    "\n",
    "Following our example in Lecture 9, code a function `time_and_theta(ell, theta_0)` that outputs two Numpy arrays:  \n",
    "1. an array of time slices\n",
    "2. an array of associated $\\theta$ values\n",
    "\n",
    "In other words, the outputs of `time_and_theta(ell, theta_0)` are the required inputs for `matplotlib` to plot the trajectory. Use the Runge-Kutta algorithm to integrate the differential equations. Use MKS units, so that `g = 9.8`.\n",
    "\n",
    "**Hint**: It is <a href=\"http://stackoverflow.com/a/930398/4812646\">useful to know</a> that you can access the last element of a list using `[-1]` as an index. For example: if `some_list` is `[1,2,3]`, then `some_list[-1]` gives `-3`.\n",
    "\n",
    "**Remark**: We're using global variables again. This isn't always a good practice, but it will be convenient."
   ]
  },
  {
   "cell_type": "code",
   "execution_count": 79,
   "metadata": {
    "collapsed": true
   },
   "outputs": [],
   "source": [
    "import numpy as np\n",
    "import matplotlib.pyplot as plt\n",
    "from math import sin as sin\n",
    "\n",
    "# CONSTANTS\n",
    "g = 9.8    \n",
    "\n",
    "# PARAMETERS\n",
    "ell = 1.0      # length of pendulum arm\n",
    "theta_0 = 2.0  # initial displacement in radians\n",
    "               # Note: this is *not* a small angle\n",
    "omega_0 = 0.0  # initial angular velocity\n",
    "dt = 0.01      # time sampling spacing\n",
    "t_final = 10.0 # total number of seconds to run\n",
    "\n",
    "def f(theta, omega, t):\n",
    "    \"\"\"d(theta)/dt\"\"\"\n",
    "    return 0 # FIX THIS\n",
    "    \n",
    "def h(theta, omega, t):\n",
    "    \"\"\"d(omega)/dt\"\"\"\n",
    "    return 0 # FIX THIS\n",
    "\n",
    "# TIME SLICES (depends on dt and t_final)\n",
    "tpoints = np.arange(0, t_final, dt)\n",
    "\n",
    "def time_and_angles():\n",
    "    \"\"\"\n",
    "    Returns three Numpy arrays: \n",
    "    1. a list of time samples \n",
    "    2. a list of theta values\n",
    "    3. a list of omega values\n",
    "    No arguments (these are all assumed to be global variables)\n",
    "    \"\"\"\n",
    "    \n",
    "    theta_points = []\n",
    "    omega_points = []\n",
    "    \n",
    "    # Initialize theta, omega\n",
    "    theta = 0 # FIX THIS\n",
    "    omega = 0 # FIX THIS\n",
    "    \n",
    "    for t in tpoints:\n",
    "        \n",
    "        # Record theta, omega\n",
    "        theta_points.append(theta)\n",
    "        omega_points.append(omega)\n",
    "            \n",
    "        # Time step using Runge-Kutta\n",
    "        ## FILL THIS IN\n",
    "        theta += 0 # FIX THIS\n",
    "        \n",
    "        ## FILL THIS IN\n",
    "        omega += 0 # FIX THIS\n",
    "        \n",
    "        # Note: the arguments of f(...) and h(...) should use \n",
    "        # theta_points[-1] and omega_points[-1].\n",
    "        #\n",
    "        # This is to ensure that you update theta and omega simultaneously. \n",
    "        # For example, if you were doing Euler (correct):\n",
    "        # omega(i+1) = omega(i) + dt*f(theta(i), omega(i), t)\n",
    "        #\n",
    "        # versus (incorrect)\n",
    "        # omega(i+1) = omega(i) + dt*f(theta(i+1), omega(i), t)\n",
    "\n",
    "    tt = np.array(tpoints)\n",
    "    thetas = np.array(theta_points)\n",
    "    omegas = np.array(omega_points)\n",
    "    \n",
    "    return tt, thetas, omegas"
   ]
  },
  {
   "cell_type": "code",
   "execution_count": null,
   "metadata": {
    "collapsed": true
   },
   "outputs": [],
   "source": [
    "# Test the above code:\n",
    "times, thetas, omegas = time_and_angles()\n",
    "\n",
    "plt.plot(times, thetas, label='$\\Theta$ (rad)')\n",
    "plt.plot(times, omegas, label='$\\omega$ (rad/s)')\n",
    "plt.title(\"Simple Pendulum\")\n",
    "plt.xlabel('time')\n",
    "plt.ylabel('Measurements [mks]')\n",
    "plt.legend()\n",
    "plt.show()"
   ]
  },
  {
   "cell_type": "markdown",
   "metadata": {},
   "source": [
    "Your code above should produce:\n",
    "<img src=\"HW4_simple_pendulum.png\">"
   ]
  },
  {
   "cell_type": "markdown",
   "metadata": {},
   "source": [
    "### 1.b Phase Space\n",
    "\n",
    "Using your code (or rewriting it if necessary) from Problem 1.a, plot the **phase space trajectory** of the simple pendulum over the range 0 to 10 seconds with the initial conditiosn above. A phase space diagram has $\\theta$ on the horizontal axis and momentum on the vertical axis. You may assume that the pendulum weight has unit mass. \n",
    "\n",
    "(In the units where `g=9.8`, what does \"unit mass\" mean?)\n",
    "\n",
    "**Explain what's going on.** The result may surprise you. But then you'll remember the discussion we had at the end of Lecture 9 about energy conservation and the propagation of errors. Start by explaining what kind of physics diagram you expect to see (based on physics), and then explain why this diagram looks different."
   ]
  },
  {
   "cell_type": "code",
   "execution_count": null,
   "metadata": {
    "collapsed": true
   },
   "outputs": [],
   "source": [
    "# FIll this in"
   ]
  },
  {
   "cell_type": "markdown",
   "metadata": {},
   "source": [
    "### 1.c Plot of Energy with Respect to Time\n",
    "\n",
    "The energy of the simple pendulum is  \n",
    "\n",
    "$\\displaystyle E = \\frac{1}{2} m \\ell^2 \\omega^2 + m g \\ell \\left(1-\\cos\\theta\\right)$\n",
    "\n",
    "**Hint:** Numpy arrays are \"built\" for being manipulated as mathematical objects. Thus it may be useful to observe the following operations:"
   ]
  },
  {
   "cell_type": "code",
   "execution_count": 30,
   "metadata": {},
   "outputs": [
    {
     "data": {
      "text/plain": [
       "array([-0.99999873,  0.02079483])"
      ]
     },
     "execution_count": 30,
     "metadata": {},
     "output_type": "execute_result"
    }
   ],
   "source": [
    "test_numpy_array=np.array([3.14,1.55])\n",
    "np.cos(test_numpy_array)"
   ]
  },
  {
   "cell_type": "code",
   "execution_count": 29,
   "metadata": {},
   "outputs": [
    {
     "data": {
      "text/plain": [
       "array([ 9.8596,  2.4025])"
      ]
     },
     "execution_count": 29,
     "metadata": {},
     "output_type": "execute_result"
    }
   ],
   "source": [
    "test_numpy_array**2"
   ]
  },
  {
   "cell_type": "markdown",
   "metadata": {},
   "source": [
    "Using the outputs of your code from Problem 1.a, create a Numpy array of energy at each time step and plot energy as a function of time. Refer to your answer to Problem 1.b and explain what's going on. From physical principles, what do you *expect* this plot to look like (e.g. if you were taking measurements of an actual simple pendulum)."
   ]
  },
  {
   "cell_type": "code",
   "execution_count": null,
   "metadata": {
    "collapsed": true
   },
   "outputs": [],
   "source": [
    "m = 1.0\n",
    "\n",
    "# FILL THIS IN"
   ]
  },
  {
   "cell_type": "markdown",
   "metadata": {},
   "source": [
    "### 1.d Time-reversal symmetry in Runge-Kutta\n",
    "\n",
    "As we discussed in lecture, the weird behavior observed in Problems 1.b and 1.c (and that are barely visible in the plot from 1.a) are due to the Runge-Kutta algorithm breaking time-reversal invariance. This means that total energy drifts, and we argued that the drift is positive definite. If you didn't observe this, go back and fix your answers to 1.b and 1.c right now. \n",
    "\n",
    "It is useful to know that given an array, `some_array`, you can produce the same array in the \"reverse order\" using `some_array[::-1]`.\n",
    "\n",
    "Use your code exisiting code to redo the *same* simple pendulum system, except whith `theta_0` set to the *final* value (`thetas[-1]`), `omega_0` set to the *final* value (`omegas[-1]`), and `dt` set to be negative (`dt = -0.01`). You'll have to also reverse the `tpoints` array of time samples. "
   ]
  },
  {
   "cell_type": "code",
   "execution_count": null,
   "metadata": {
    "collapsed": true
   },
   "outputs": [],
   "source": [
    "theta_0 = 0 # FIX THIS\n",
    "omega_0 = 0 # FIX THIS\n",
    "dt = 0 # FIX THIS )\n",
    "\n",
    "# we want tpoints to be the \"reverse\" of what it was in problem 1.a\n",
    "# so that the last time step appears first, and t=0 appears last\n",
    "tpoints = 0 # FIX THIS\n",
    "\n",
    "# Now we just run the *same* code from problem 1.a\n",
    "back_times, back_thetas, back_omegas = time_and_angles()\n",
    "\n",
    "# CLEAN UP\n",
    "# (Return global values back to their original values)\n",
    "dt = 0.01  \n",
    "tpoints = np.arange(0, t_final, abs(dt))\n",
    "\n",
    "# Compare plots\n",
    "plt.plot(times, thetas, label='Running forward from initial condition')\n",
    "plt.plot(back_times, back_thetas, label='Running backward from final condition')\n",
    "plt.title(\"Simple Pendulum in Runge-Kutta: Time Reversal\")\n",
    "plt.xlabel('time')\n",
    "plt.ylabel('Theta [rad]')\n",
    "plt.legend()\n",
    "plt.show()"
   ]
  },
  {
   "cell_type": "markdown",
   "metadata": {},
   "source": [
    "### 1.e Leap-Frog to the Rescue\n",
    "\n",
    "Use the leap-frog algorithm described in class to re-code `time_and_angles()`. Recall that at each step of leapfrog, you have `x[i]` and `x[i+1/2` and do the following:\n",
    "\n",
    "1. `x[i+1]` is defined as `x[i]` plus a correction whose slop comes from `f(x,t)` evaluated at `x[i+1/2]` and `t[i+1/2]`.\n",
    "2. `x[i+3/2]` is defined as `x[i+1/2]` plus a correction whose slop comes from `f(x,t)` evaluated at `x[i+1]` and `t[i+1]`."
   ]
  },
  {
   "cell_type": "code",
   "execution_count": 84,
   "metadata": {
    "collapsed": true
   },
   "outputs": [],
   "source": [
    "def time_and_angles_leapfrog():\n",
    "    \"\"\"\n",
    "    Returns three Numpy arrays: \n",
    "    1. a list of time samples \n",
    "    2. a list of theta values\n",
    "    3. a list of omega values\n",
    "    No arguments (these are all assumed to be global variables)\n",
    "    Uses leap-frog algorithm\n",
    "    \"\"\"\n",
    "    \n",
    "    theta_points = []\n",
    "    omega_points = []\n",
    "    \n",
    "    # Initialize theta, omega\n",
    "    theta = theta_0\n",
    "    omega = omega_0\n",
    "    \n",
    "    # Initialize theta, omega \"+1/2\"\n",
    "    theta_half = # FILL THIS IN USING ONE STEP OF THE EULER METHOD\n",
    "    omega_half = # FILL THIS IN USING ONE STEP OF THE EULER METHOD\n",
    "    \n",
    "    \n",
    "    for t in tpoints:\n",
    "        # Record theta, omega\n",
    "        theta_points.append(theta)\n",
    "        omega_points.append(omega)\n",
    "            \n",
    "        # Time step using Leap-Frog \n",
    "        # FILL THIS IN\n",
    "        \n",
    "    tt = np.array(tpoints)\n",
    "    thetas = np.array(theta_points)\n",
    "    omegas = np.array(omega_points)\n",
    "    \n",
    "    return tt, thetas, omegas\n",
    "\n",
    "# Test the above code:\n",
    "times, thetas_lf, omegas_lf = time_and_angles_leapfrog()"
   ]
  },
  {
   "cell_type": "markdown",
   "metadata": {},
   "source": [
    "### 1.f Leap-Frog Plots\n",
    "\n",
    "Using the leap-frog data generated in problem 1.e, remake the plots you have made earlier in this problem showing both the Runge-Kutta result and the Leap-Frog results simultaneously on each plot.\n",
    "\n",
    "You shouldn't have to re-generate any of the data."
   ]
  },
  {
   "cell_type": "code",
   "execution_count": null,
   "metadata": {
    "collapsed": true
   },
   "outputs": [],
   "source": [
    "plt.plot(# FILL THIS IN\n",
    "         , label='RK')\n",
    "plt.plot(# FILL THIS IN\n",
    "         , label='LF')\n",
    "plt.title(\"Simple Pendulum: RK vs LF\")\n",
    "plt.xlabel('time')\n",
    "plt.ylabel('Measurements [mks]')\n",
    "plt.legend()\n",
    "plt.show()"
   ]
  },
  {
   "cell_type": "code",
   "execution_count": null,
   "metadata": {
    "collapsed": true
   },
   "outputs": [],
   "source": [
    "plt.plot(# FILL THIS IN\n",
    "         , label='RK')\n",
    "plt.plot(# FILL THIS IN\n",
    "         , label='LF')\n",
    "plt.title(\"Simple Pendulum: Phase Space\")\n",
    "plt.xlabel('angle')\n",
    "plt.ylabel('momentum')\n",
    "plt.legend()\n",
    "plt.show()"
   ]
  },
  {
   "cell_type": "code",
   "execution_count": null,
   "metadata": {
    "collapsed": true
   },
   "outputs": [],
   "source": [
    "m = 1.0\n",
    "\n",
    "energies_lf = # FILL THIS IN\n",
    "\n",
    "plt.plot(# FILL THIS IN\n",
    "         , label='RK')\n",
    "plt.plot(# FILL THIS IN\n",
    "         , label='LF')\n",
    "plt.title(\"Simple Pendulum: Energy, RK vs LF\")\n",
    "plt.xlabel('Time')\n",
    "plt.ylabel('Energy')\n",
    "plt.show()"
   ]
  },
  {
   "cell_type": "markdown",
   "metadata": {},
   "source": [
    "### 1.g Leap-Frog Time Reversal Symmetry\n",
    "\n",
    "Re-do problem 1.d using Leap-Frog. Plot the amplitude as a function of time for:\n",
    "1. the original Runge-Kutta data (from 1.a)\n",
    "2. the time-reversed Runge-Kutta data (from 1.d)\n",
    "3. the original Leap-Frog data (from 1.3)\n",
    "4. the time-reversed Leap-Frog data"
   ]
  },
  {
   "cell_type": "code",
   "execution_count": null,
   "metadata": {
    "collapsed": true
   },
   "outputs": [],
   "source": [
    "theta_0 = # FILL THIS IN (use the  \"_lf\" data)\n",
    "omega_0 = # FILL THIS IN (use the  \"_lf\" data)\n",
    "dt = # FILL THIS IN\n",
    "\n",
    "# old set of time samples, you want tpoints to be the \"reverse\" of this\n",
    "tpoints = # FILL THIS IN, we want it time-reversed\n",
    "\n",
    "back_times, back_thetas_lf, back_omegas_lf = time_and_angles_leapfrog()\n",
    "\n",
    "# CLEAN UP\n",
    "# (Return global values back to their original values)\n",
    "dt = 0.01  \n",
    "tpoints = np.arange(0, t_final, abs(dt))\n",
    "\n",
    "# Define a small offset so that you can see lines\n",
    "# that would otherwise be overlapping\n",
    "OFFSET = 0.5\n",
    "\n",
    "# Compare plots\n",
    "plt.plot(times, thetas, label='Running forward from initial condition')\n",
    "plt.plot(back_times, back_thetas, label='Running backward from final condition')\n",
    "plt.plot(times, thetas_lf + OFFSET, label='LF: Running forward from initial condition')\n",
    "plt.plot(back_times, back_thetas_lf, label='LF: Running backward from final condition')\n",
    "plt.title(\"Simple Pendulum in Runge-Kutta: Time Reversal\")\n",
    "plt.xlabel('time')\n",
    "plt.ylabel('Theta [rad]')\n",
    "plt.legend() \n",
    "plt.show()"
   ]
  },
  {
   "cell_type": "markdown",
   "metadata": {},
   "source": [
    "## Problem 2: Not-So Simple Pendula\n",
    "\n",
    "Using the same initial conditions as in Problem 1, copy and paste (\"<a href=\"http://knowyourmeme.com/memes/copypasta\">copy-pasta</a>\") your code from Problem 1.e and adapt it to a not-so simple pendulum.\n",
    "\n",
    "### Problem 2.a\n",
    "\n",
    "Include the following forces:\n",
    "* Damping force, with damping coefficient `q_damp`\n",
    "* Driving force with amplitude `F_drive` and frequency `omega_drive`\n",
    "* Drag force with air density `rho`, drac coefficient `C_drag` and some `area`\n",
    "\n",
    "Make sure that the forces are pointed in the right direction! (If your code isn't stable because your velocity gets huge, this might be way.)\n",
    "\n",
    "Set `t_final` to 20 seconds. Set `q_damp = 0.1`, `F_drive = 1.4`, and `omega_drive = 1.0`. Assume that the bob has radius .1 (what's the area?), and that the drag coefficient is 1.0. What's a reasonable value for the density of air? (What units are we using?)\n",
    "\n",
    "Plot the results."
   ]
  },
  {
   "cell_type": "code",
   "execution_count": null,
   "metadata": {
    "collapsed": true
   },
   "outputs": [],
   "source": [
    "t_final = # FILL THIS IN\n",
    "dt = .01\n",
    "tpoints = np.arange(0, t_final, dt)\n",
    "\n",
    "# FILL IN THE PARAMETERS OF THE NEW FORCES HERE\n",
    "\n",
    "# Redefine h to include other forces\n",
    "def h(theta,omega,t):\n",
    "    \"\"\"d(omega)/dt, in the presence of other stuff\"\"\"\n",
    "    SHO = 0 # FILL IN Simple Harmonic Oscillator here\n",
    "    friction = 0 # FILL IN friction force\n",
    "    drive = 0 # FILL IN driving force\n",
    "    drag = 0 # FILL IN drag force\n",
    "    return SHO + friction + drive + drag\n",
    "\n",
    "times, thetas_real, omegas_real = time_and_angles_leapfrog()\n",
    "plt.plot(times, thetas_real)\n",
    "plt.title(\"Not So Simple Pendulum\")\n",
    "plt.xlabel('time')\n",
    "plt.ylabel('Angle')\n",
    "plt.show()"
   ]
  },
  {
   "cell_type": "markdown",
   "metadata": {},
   "source": [
    "### Problem 2.b\n",
    "\n",
    "Set `t_final` to 50 seconds and `dt` to 0.001. Turn off the driving force. Approximately how long does it take for the amplitude of the oscillation to decrease to 0.25 radians?"
   ]
  },
  {
   "cell_type": "code",
   "execution_count": null,
   "metadata": {
    "collapsed": true
   },
   "outputs": [],
   "source": [
    "# FILL THIS IN"
   ]
  },
  {
   "cell_type": "markdown",
   "metadata": {},
   "source": [
    "### Problem 2.c \n",
    "\n",
    "Plot the trajectory in Problem 2.b in phase space."
   ]
  },
  {
   "cell_type": "code",
   "execution_count": null,
   "metadata": {
    "collapsed": true
   },
   "outputs": [],
   "source": [
    "## FILL THIS IN"
   ]
  }
 ],
 "metadata": {
  "kernelspec": {
   "display_name": "Python 3",
   "language": "python",
   "name": "python3"
  },
  "language_info": {
   "codemirror_mode": {
    "name": "ipython",
    "version": 3
   },
   "file_extension": ".py",
   "mimetype": "text/x-python",
   "name": "python",
   "nbconvert_exporter": "python",
   "pygments_lexer": "ipython3",
   "version": "3.4.3"
  }
 },
 "nbformat": 4,
 "nbformat_minor": 2
}
